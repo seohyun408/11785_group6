{
 "cells": [
  {
   "cell_type": "code",
   "execution_count": 7,
   "id": "d71afc97",
   "metadata": {},
   "outputs": [],
   "source": [
    "\"\"\"\n",
    "Module Doc String\n",
    "\"\"\"\n",
    "\n",
    "import os\n",
    "import numpy as np\n",
    "import pandas as pd\n",
    "import torch\n",
    "from tqdm import tqdm\n",
    "import matplotlib.pyplot as plt\n",
    "from matplotlib import ticker\n",
    "import seaborn as sns\n",
    "from fancy_einsum import einsum\n",
    "from transformer_lens import HookedTransformer\n",
    "from toxicity.figures.fig_utils import convert, load_hooked\n",
    "from constants import ROOT_DIR, MODEL_DIR"
   ]
  },
  {
   "cell_type": "code",
   "execution_count": 8,
   "id": "e0137eae",
   "metadata": {},
   "outputs": [
    {
     "name": "stdout",
     "output_type": "stream",
     "text": [
      "Loaded pretrained model gpt2-medium into HookedTransformer\n"
     ]
    }
   ],
   "source": [
    "\n",
    "model = load_hooked(\"gpt2-medium\", os.path.join(MODEL_DIR, \"dpo.pt\"))\n",
    "model.tokenizer.padding_side = \"left\"\n",
    "model.tokenizer.pad_token_id = model.tokenizer.eos_token_id"
   ]
  },
  {
   "cell_type": "code",
   "execution_count": 9,
   "id": "f744b3b0",
   "metadata": {},
   "outputs": [],
   "source": [
    "\n",
    "prompts = list(\n",
    "    np.load(os.path.join(ROOT_DIR, \"toxicity/figures/shit_prompts.npy\"))\n",
    ")\n",
    "tokens = model.to_tokens(prompts, prepend_bos=True)"
   ]
  },
  {
   "cell_type": "code",
   "execution_count": 10,
   "id": "ed241c56",
   "metadata": {},
   "outputs": [
    {
     "name": "stderr",
     "output_type": "stream",
     "text": [
      "100%|█████████████████████████████████████| 73/73 [00:17<00:00,  4.29it/s]\n"
     ]
    }
   ],
   "source": [
    "\n",
    "batchsize = 4\n",
    "all_dpo_prob = None\n",
    "all_gpt2_prob = None\n",
    "for idx in tqdm(range(0, tokens.shape[0], batchsize)):\n",
    "    batch = tokens[idx : idx + batchsize].cuda()\n",
    "    with torch.inference_mode():\n",
    "        _, cache = model.run_with_cache(batch)\n",
    "\n",
    "        accum = cache.accumulated_resid(layer=-1, incl_mid=True, apply_ln=True)\n",
    "\n",
    "        # Project each layer and each position onto vocab space\n",
    "        vocab_proj = einsum(\n",
    "            \"layer batch pos d_model, d_model d_vocab --> layer batch pos d_vocab\",\n",
    "            accum,\n",
    "            model.W_U,\n",
    "        )\n",
    "\n",
    "    shit_probs = vocab_proj.softmax(dim=-1)[:, :, -1, 7510].cpu()\n",
    "    if all_dpo_prob is None:\n",
    "        all_dpo_prob = shit_probs\n",
    "    else:\n",
    "        all_dpo_prob = torch.concat([all_dpo_prob, shit_probs], dim=1)"
   ]
  },
  {
   "cell_type": "code",
   "execution_count": 11,
   "id": "61a1f967",
   "metadata": {},
   "outputs": [
    {
     "name": "stdout",
     "output_type": "stream",
     "text": [
      "Loaded pretrained model gpt2-medium into HookedTransformer\n"
     ]
    },
    {
     "name": "stderr",
     "output_type": "stream",
     "text": [
      "100%|█████████████████████████████████████| 73/73 [00:16<00:00,  4.37it/s]\n"
     ]
    }
   ],
   "source": [
    "\n",
    "model = HookedTransformer.from_pretrained(\"gpt2-medium\")\n",
    "model.tokenizer.padding_side = \"left\"\n",
    "model.tokenizer.pad_token_id = model.tokenizer.eos_token_id\n",
    "\n",
    "for idx in tqdm(range(0, tokens.shape[0], batchsize)):\n",
    "    batch = tokens[idx : idx + batchsize].cuda()\n",
    "    with torch.inference_mode():\n",
    "        _, cache = model.run_with_cache(batch)\n",
    "\n",
    "        accum, accum_labels = cache.accumulated_resid(\n",
    "            layer=-1, incl_mid=True, apply_ln=True, return_labels=True\n",
    "        )\n",
    "        vocab_proj = einsum(\n",
    "            \"layer batch pos d_model, d_model d_vocab --> layer batch pos d_vocab\",\n",
    "            accum,\n",
    "            model.W_U,\n",
    "        )\n",
    "\n",
    "    shit_probs = vocab_proj.softmax(dim=-1)[:, :, -1, 7510].cpu()\n",
    "    if all_gpt2_prob is None:\n",
    "        all_gpt2_prob = shit_probs\n",
    "    else:\n",
    "        all_gpt2_prob = torch.concat([all_gpt2_prob, shit_probs], dim=1)"
   ]
  },
  {
   "cell_type": "code",
   "execution_count": 12,
   "id": "ae18867b",
   "metadata": {
    "scrolled": false
   },
   "outputs": [
    {
     "data": {
      "image/png": "[encoded data removed]",
      "text/plain": [
       "<Figure size 400.875x150 with 1 Axes>"
      ]
     },
     "metadata": {},
     "output_type": "display_data"
    }
   ],
   "source": [
    "\n",
    "data = []\n",
    "for layer_idx in range(all_gpt2_prob.shape[0]):\n",
    "    for prob in all_gpt2_prob[layer_idx]:\n",
    "        data.append(\n",
    "            {\n",
    "                \"Layer\": layer_idx,\n",
    "                \"Model\": \"GPT2\",\n",
    "                \"Probability\": prob.item(),\n",
    "            }\n",
    "        )\n",
    "\n",
    "for layer_idx in range(all_dpo_prob.shape[0]):\n",
    "    for prob in all_dpo_prob[layer_idx]:\n",
    "        data.append(\n",
    "            {\n",
    "                \"Layer\": layer_idx,\n",
    "                \"Model\": \"DPO\",\n",
    "                \"Probability\": prob.item(),\n",
    "            }\n",
    "        )\n",
    "\n",
    "data = pd.DataFrame(data)\n",
    "\n",
    "sns.set_theme(context=\"paper\", style=\"ticks\", rc={\"lines.linewidth\": 1.5})\n",
    "fig = sns.relplot(\n",
    "    data=data,\n",
    "    x=\"Layer\",\n",
    "    y=\"Probability\",\n",
    "    hue=\"Model\",\n",
    "    hue_order=[\"GPT2\", \"DPO\"],\n",
    "    kind=\"line\",\n",
    "    height=1.5,\n",
    "    aspect=3.25 / 1.5,\n",
    ")\n",
    "\n",
    "\n",
    "major_tick_locs, major_labels = plt.xticks()\n",
    "minor_tick_locs, minor_labels = plt.xticks(minor=True)\n",
    "\n",
    "fig.ax.xaxis.set_major_locator(ticker.MultipleLocator(1))\n",
    "fig.ax.xaxis.set_major_formatter(ticker.ScalarFormatter())\n",
    "major_tick_locs, major_labels = plt.xticks()\n",
    "new_tick_locs = [\n",
    "    x for x in major_tick_locs if x >= 0 and x <= 48 and x % 2 == 0\n",
    "]\n",
    "new_minor_tick_locs = [\n",
    "    x for x in major_tick_locs if x >= 0 and x <= 48 and x % 2 != 0\n",
    "]\n",
    "\n",
    "\n",
    "major_labels = [x if x % 2 == 0 else \"\" for x in range(24)] + [\"F\"]\n",
    "\n",
    "plt.xticks(ticks=new_tick_locs, labels=major_labels)\n",
    "plt.xticks(\n",
    "    ticks=new_minor_tick_locs,\n",
    "    labels=[\"\" for _ in new_minor_tick_locs],\n",
    "    minor=True,\n",
    ")\n",
    "\n",
    "fig.ax.tick_params(axis=\"x\", which=\"major\", length=10)\n",
    "fig.ax.tick_params(axis=\"x\", which=\"both\", color=\"grey\")\n",
    "fig.ax.set_ylim(ymin=0)\n",
    "fig.ax.set_ylim(ymax=0.48)\n",
    "fig.ax.fill_betweenx([0, 0.48], 37, 38, alpha=0.35, facecolor=\"grey\")\n",
    "fig.ax.fill_betweenx([0, 0.48], 39, 40, alpha=0.35, facecolor=\"grey\")\n",
    "fig.ax.fill_betweenx([0, 0.48], 41, 42, alpha=0.35, facecolor=\"grey\")\n",
    "sns.move_legend(fig, \"upper left\", bbox_to_anchor=(0.22, 1))\n",
    "\n",
    "plt.savefig(\"logitlens.pdf\", bbox_inches=\"tight\", dpi=1200)"
   ]
  },
  {
   "cell_type": "code",
   "execution_count": null,
   "id": "77b8e31f",
   "metadata": {
    "scrolled": false
   },
   "outputs": [],
   "source": []
  }
 ],
 "metadata": {
  "kernelspec": {
   "display_name": "Python 3",
   "language": "python",
   "name": "python3"
  },
  "language_info": {
   "codemirror_mode": {
    "name": "ipython",
    "version": 3
   },
   "file_extension": ".py",
   "mimetype": "text/x-python",
   "name": "python",
   "nbconvert_exporter": "python",
   "pygments_lexer": "ipython3",
   "version": "3.8.8"
  }
 },
 "nbformat": 4,
 "nbformat_minor": 5
}
