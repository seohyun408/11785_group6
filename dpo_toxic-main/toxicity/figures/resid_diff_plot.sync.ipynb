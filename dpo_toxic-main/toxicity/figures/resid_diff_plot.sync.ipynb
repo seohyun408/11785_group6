{
 "cells": [
  {
   "cell_type": "code",
   "execution_count": 1,
   "id": "8f762e3c",
   "metadata": {},
   "outputs": [
    {
     "data": {
      "text/plain": [
       "<torch.autograd.grad_mode.set_grad_enabled at 0x7f96081d8040>"
      ]
     },
     "execution_count": 1,
     "metadata": {},
     "output_type": "execute_result"
    }
   ],
   "source": [
    "import os\n",
    "import json\n",
    "from collections import defaultdict\n",
    "\n",
    "import pandas as pd\n",
    "import numpy as np\n",
    "import einops\n",
    "\n",
    "import torch\n",
    "import torch.nn.functional as F\n",
    "from fancy_einsum import einsum\n",
    "from tqdm import tqdm\n",
    "\n",
    "import seaborn as sns\n",
    "import matplotlib.pyplot as plt\n",
    "from matplotlib.gridspec import GridSpec\n",
    "from transformer_lens import HookedTransformer\n",
    "from toxicity.figures.fig_utils import convert, load_hooked, get_svd\n",
    "from constants import MODEL_DIR, DATA_DIR\n",
    "\n",
    "torch.set_grad_enabled(False)"
   ]
  },
  {
   "cell_type": "code",
   "execution_count": 2,
   "id": "a6e92abc",
   "metadata": {},
   "outputs": [
    {
     "name": "stdout",
     "output_type": "stream",
     "text": [
      "Loaded pretrained model gpt2-medium into HookedTransformer\n",
      "Loaded pretrained model gpt2-medium into HookedTransformer\n"
     ]
    }
   ],
   "source": [
    "\n",
    "model = load_hooked(\"gpt2-medium\", os.path.join(MODEL_DIR, \"dpo.pt\"))\n",
    "gpt2 = HookedTransformer.from_pretrained(\"gpt2-medium\")\n",
    "gpt2.tokenizer.padding_side = \"left\"\n",
    "gpt2.tokenizer.pad_token_id = gpt2.tokenizer.eos_token_id\n",
    "\n",
    "toxic_vector = torch.load(os.path.join(MODEL_DIR, \"probe.pt\"))\n",
    "\n",
    "cos = F.cosine_similarity"
   ]
  },
  {
   "cell_type": "code",
   "execution_count": 3,
   "id": "ab88df24",
   "metadata": {},
   "outputs": [],
   "source": [
    "\n",
    "with open(\n",
    "    os.path.join(DATA_DIR, \"intervene_data/challenge_prompts.jsonl\"), \"r\"\n",
    ") as file_p:\n",
    "    data = file_p.readlines()\n",
    "\n",
    "prompts = [json.loads(x.strip())[\"prompt\"] for x in data]\n",
    "tokenized_prompts = model.to_tokens(prompts, prepend_bos=True).cuda()"
   ]
  },
  {
   "cell_type": "code",
   "execution_count": 4,
   "id": "8bca9e25",
   "metadata": {},
   "outputs": [],
   "source": [
    "\n",
    "\n",
    "svd_gpt2, scores_gpt2 = get_svd(gpt2, toxic_vector, 128)\n",
    "\n",
    "mlps_by_layer = {}\n",
    "for _score_obj in scores_gpt2:\n",
    "    layer = _score_obj[2]\n",
    "    if layer not in mlps_by_layer:\n",
    "        mlps_by_layer[layer] = []\n",
    "    mlps_by_layer[layer].append(_score_obj[1])\n",
    "\n",
    "vectors_of_interest = [\n",
    "    (_score_obj[2], _score_obj[1], _score_obj[0])\n",
    "    for _score_obj in scores_gpt2[:64]\n",
    "]"
   ]
  },
  {
   "cell_type": "code",
   "execution_count": 5,
   "id": "3a2d0c3e",
   "metadata": {},
   "outputs": [
    {
     "name": "stderr",
     "output_type": "stream",
     "text": [
      "100%|████████████████████████████████████████████████████████████████████████████████████████████| 300/300 [00:33<00:00,  8.84it/s]\n"
     ]
    }
   ],
   "source": [
    "\n",
    "\n",
    "sample_size = tokenized_prompts.shape[0]\n",
    "layer_of_interest = 18\n",
    "\n",
    "sublayers = [0, 2, 4, 6, 8, 9, 11, 13, 15, 17]\n",
    "batch_size = 4\n",
    "\n",
    "all_diffs = []\n",
    "for idx in tqdm(range(0, sample_size, batch_size)):\n",
    "    batch = tokenized_prompts[idx : idx + batch_size, :]\n",
    "    with torch.inference_mode():\n",
    "        _, cache = gpt2.run_with_cache(batch)\n",
    "\n",
    "    gpt2_resids = {}\n",
    "    # [batch, d_model]\n",
    "    gpt2_resids[layer_of_interest] = cache[\n",
    "        f\"blocks.{layer_of_interest}.hook_resid_mid\"\n",
    "    ]\n",
    "\n",
    "    with torch.inference_mode():\n",
    "        _, cache = model.run_with_cache(batch)\n",
    "\n",
    "    # [batch, d_model]\n",
    "    all_diffs.append(\n",
    "        cache[f\"blocks.{layer_of_interest}.hook_resid_mid\"]\n",
    "        - gpt2_resids[layer_of_interest]\n",
    "    )\n",
    "\n",
    "all_diffs = torch.concat(all_diffs, dim=0)"
   ]
  },
  {
   "cell_type": "code",
   "execution_count": 6,
   "id": "96e9658c",
   "metadata": {},
   "outputs": [],
   "source": [
    "\n",
    "# [4096, 1024]\n",
    "mlp_diffs = {}\n",
    "for _layer in sublayers:\n",
    "    dpo_w_out = model.blocks[_layer].mlp.W_out\n",
    "    gpt2_w_out = gpt2.blocks[_layer].mlp.W_out\n",
    "    mlp_diffs[_layer] = dpo_w_out - gpt2_w_out\n",
    "\n",
    "\n",
    "diff_cosines = {}\n",
    "\n",
    "for mlp_layer in sublayers:\n",
    "\n",
    "    diff_cosines[mlp_layer] = cos(\n",
    "        mlp_diffs[mlp_layer],\n",
    "        all_diffs.view(-1, 1024).mean(dim=0).unsqueeze(0),\n",
    "        dim=1,\n",
    "    ).tolist()"
   ]
  },
  {
   "cell_type": "code",
   "execution_count": 7,
   "id": "6e2824de",
   "metadata": {},
   "outputs": [
    {
     "name": "stdout",
     "output_type": "stream",
     "text": [
      "Grabbing mlp mids...\n"
     ]
    },
    {
     "name": "stderr",
     "output_type": "stream",
     "text": [
      "100%|████████████████████████████████████████████████████████████████████████████████████████████| 300/300 [00:20<00:00, 14.74it/s]\n"
     ]
    }
   ],
   "source": [
    "\n",
    "all_acts_dpo_pt = defaultdict(list)\n",
    "# Decompose layer 19 MLP out\n",
    "print(\"Grabbing mlp mids...\")\n",
    "for idx in tqdm(range(0, sample_size, batch_size)):\n",
    "    batch = tokenized_prompts[idx : idx + batch_size, :]\n",
    "    with torch.inference_mode():\n",
    "        _, cache = model.run_with_cache(batch)\n",
    "\n",
    "    for _layer in sublayers:\n",
    "        mlp_mid = cache[f\"blocks.{_layer}.mlp.hook_post\"]\n",
    "        all_acts_dpo_pt[_layer].append(mlp_mid.cpu())"
   ]
  },
  {
   "cell_type": "code",
   "execution_count": 8,
   "id": "2297253d",
   "metadata": {},
   "outputs": [],
   "source": [
    "\n",
    "d_mlp = model.cfg.d_mlp\n",
    "dpo_acts_mean = {}\n",
    "gpt2_acts_mean = {}\n",
    "for _layer in sublayers:\n",
    "    concat = torch.concat([x.cuda() for x in all_acts_dpo_pt[_layer]], dim=0)\n",
    "    dpo_acts_mean[_layer] = (\n",
    "        concat.view(-1, d_mlp).to(\"cuda:1\").mean(dim=0).cpu()\n",
    "    )"
   ]
  },
  {
   "cell_type": "code",
   "execution_count": 9,
   "id": "6db314af",
   "metadata": {
    "scrolled": false
   },
   "outputs": [
    {
     "name": "stdout",
     "output_type": "stream",
     "text": [
      "Building dataframes.\n"
     ]
    }
   ],
   "source": [
    "\n",
    "print(\"Building dataframes.\")\n",
    "\n",
    "raw_cosine_data = []\n",
    "layers_to_plot = list(diff_cosines.keys())\n",
    "for _layer in layers_to_plot:\n",
    "    for _idx in range(d_mlp):\n",
    "        raw_cosine_data.append(\n",
    "            {\n",
    "                \"layer\": _layer,\n",
    "                \"cos_sim\": round(diff_cosines[_layer][_idx], 2),\n",
    "            }\n",
    "        )\n",
    "\n",
    "raw_mean_acts = []\n",
    "for _layer in layers_to_plot:\n",
    "    for _idx in range(d_mlp):\n",
    "        raw_mean_acts.append(\n",
    "            {\"layer\": _layer, \"mean_acts\": dpo_acts_mean[_layer][_idx].item()}\n",
    "        )\n",
    "\n",
    "\n",
    "cos_sim_df = pd.DataFrame(raw_cosine_data)\n",
    "mean_acts_df = pd.DataFrame(raw_mean_acts)"
   ]
  },
  {
   "cell_type": "code",
   "execution_count": 10,
   "id": "c259b8bc",
   "metadata": {
    "scrolled": false
   },
   "outputs": [
    {
     "data": {
      "image/png": "[encoded data removed]",
      "text/plain": [
       "<Figure size 675x240 with 20 Axes>"
      ]
     },
     "metadata": {},
     "output_type": "display_data"
    }
   ],
   "source": [
    "\n",
    "sns.set_theme(context=\"paper\", style=\"ticks\", rc={\"lines.linewidth\": 1})\n",
    "\n",
    "colors = sns.color_palette()\n",
    "\n",
    "num_cols = int(len(sublayers) / 2)\n",
    "\n",
    "fig = plt.figure(figsize=(6.75, 2.4))\n",
    "gs = GridSpec(2, num_cols)\n",
    "\n",
    "yticks = [0, 0.04, 0.08, 0.12, 0.16, 0.20, 0.24]\n",
    "edge_col = 0\n",
    "\n",
    "for idx in range(num_cols * 2):\n",
    "    curr_row = idx // num_cols\n",
    "    curr_col = idx % num_cols\n",
    "\n",
    "    _layer = sublayers[idx]\n",
    "    ax = fig.add_subplot(gs[curr_row, curr_col])\n",
    "\n",
    "    ax.set(yticks=yticks)\n",
    "    ax2 = ax.twiny()\n",
    "    sns.histplot(\n",
    "        data=cos_sim_df[cos_sim_df.layer == _layer],\n",
    "        x=\"cos_sim\",\n",
    "        ax=ax,\n",
    "        stat=\"probability\",\n",
    "        color=colors[0],\n",
    "        alpha=1,\n",
    "        element=\"poly\",\n",
    "    )\n",
    "    sns.histplot(\n",
    "        data=mean_acts_df[mean_acts_df.layer == _layer],\n",
    "        x=\"mean_acts\",\n",
    "        ax=ax2,\n",
    "        stat=\"probability\",\n",
    "        color=colors[1],\n",
    "        alpha=0.65,\n",
    "        element=\"poly\",\n",
    "    )\n",
    "\n",
    "    ax.set_title(f\"Layer {_layer}\", pad=-10)\n",
    "\n",
    "    ax.set(yticks=yticks)\n",
    "    ax.set(xticks=[-1, 0, 1])\n",
    "    ax.yaxis.tick_left()\n",
    "    if curr_col != edge_col:\n",
    "        ax.yaxis.set_visible(True)\n",
    "        ax.yaxis.set_ticklabels([])\n",
    "        ax.yaxis.label.set_visible(False)\n",
    "\n",
    "    else:\n",
    "        ax.yaxis.label.set_visible(True)\n",
    "        ax.yaxis.label.set_text(\"Proportion\")\n",
    "\n",
    "    if curr_row == 0:\n",
    "        ax.xaxis.label.set_visible(False)\n",
    "        ax.xaxis.set_ticklabels([])\n",
    "        ax2.xaxis.set_visible(False)\n",
    "\n",
    "    ax2.set_xlim(left=-0.21, right=0.21)\n",
    "\n",
    "    ax2.xaxis.set_ticks_position(\"bottom\")\n",
    "    ax2.xaxis.set_label_position(\"bottom\")\n",
    "    ax2.spines[\"bottom\"].set_position((\"outward\", 28))\n",
    "    ax2.set_frame_on(True)\n",
    "    ax2.patch.set_visible(False)\n",
    "    for sp in ax2.spines.values():\n",
    "        sp.set_visible(False)\n",
    "    ax2.spines[\"bottom\"].set_visible(True)\n",
    "\n",
    "    ax.spines[\"bottom\"].set_color(colors[0])\n",
    "    ax2.spines[\"bottom\"].set_color(colors[1])\n",
    "\n",
    "    ax.xaxis.label.set_color(colors[0])\n",
    "    ax.tick_params(axis=\"x\", colors=colors[0])\n",
    "\n",
    "    ax2.xaxis.label.set_color(colors[1])\n",
    "    ax2.tick_params(axis=\"x\", colors=colors[1])\n",
    "\n",
    "    ax2.set(xticks=[-0.2, 0, 0.2])\n",
    "    ax.xaxis.label.set_text(\"Cos Sim\")\n",
    "    ax2.xaxis.label.set_text(\"Mean Act.\")\n",
    "    ax.xaxis.labelpad = -1\n",
    "    ax2.xaxis.labelpad = -1\n",
    "\n",
    "fig.savefig(\n",
    "    f\"resid_diff_subplots_layer{layer_of_interest}.pdf\",\n",
    "    bbox_inches=\"tight\",\n",
    "    dpi=1200,\n",
    ")"
   ]
  }
 ],
 "metadata": {
  "kernelspec": {
   "display_name": "Python 3",
   "language": "python",
   "name": "python3"
  },
  "language_info": {
   "codemirror_mode": {
    "name": "ipython",
    "version": 3
   },
   "file_extension": ".py",
   "mimetype": "text/x-python",
   "name": "python",
   "nbconvert_exporter": "python",
   "pygments_lexer": "ipython3",
   "version": "3.8.8"
  }
 },
 "nbformat": 4,
 "nbformat_minor": 5
}
